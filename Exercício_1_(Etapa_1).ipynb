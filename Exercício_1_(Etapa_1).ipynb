{
  "nbformat": 4,
  "nbformat_minor": 0,
  "metadata": {
    "colab": {
      "provenance": [],
      "authorship_tag": "ABX9TyNLwgHgfb1VR0Z4A8ttCfHp",
      "include_colab_link": true
    },
    "kernelspec": {
      "name": "python3",
      "display_name": "Python 3"
    },
    "language_info": {
      "name": "python"
    }
  },
  "cells": [
    {
      "cell_type": "markdown",
      "metadata": {
        "id": "view-in-github",
        "colab_type": "text"
      },
      "source": [
        "<a href=\"https://colab.research.google.com/github/sdlelecomax/analise-de-dados/blob/main/Exerc%C3%ADcio_1_(Etapa_1).ipynb\" target=\"_parent\"><img src=\"https://colab.research.google.com/assets/colab-badge.svg\" alt=\"Open In Colab\"/></a>"
      ]
    },
    {
      "cell_type": "markdown",
      "source": [
        "**Loop For**"
      ],
      "metadata": {
        "id": "_GHYpt0Kee0u"
      }
    },
    {
      "cell_type": "code",
      "execution_count": 1,
      "metadata": {
        "colab": {
          "base_uri": "https://localhost:8080/",
          "height": 0
        },
        "id": "2eVHb1xldqAO",
        "outputId": "edec9a68-bef2-467c-8dc9-48413b3ecb90"
      },
      "outputs": [
        {
          "output_type": "stream",
          "name": "stdout",
          "text": [
            "0\n",
            "1\n",
            "2\n",
            "3\n",
            "4\n"
          ]
        }
      ],
      "source": [
        "for i in range(5):\n",
        "    print(i)\n"
      ]
    },
    {
      "cell_type": "markdown",
      "source": [
        "**Criar um dicionário**"
      ],
      "metadata": {
        "id": "aJVbWW6eeqol"
      }
    },
    {
      "cell_type": "code",
      "source": [
        "example_dict = {'apples': 5, 'oranges': 8, 'bananas': 13}\n",
        "print(example_dict)\n"
      ],
      "metadata": {
        "colab": {
          "base_uri": "https://localhost:8080/",
          "height": 0
        },
        "id": "UEw51JXidr40",
        "outputId": "e565420c-f025-4936-a847-e4a9a5bcc797"
      },
      "execution_count": 2,
      "outputs": [
        {
          "output_type": "stream",
          "name": "stdout",
          "text": [
            "{'apples': 5, 'oranges': 8, 'bananas': 13}\n"
          ]
        }
      ]
    },
    {
      "cell_type": "markdown",
      "source": [
        "**Converter dicionário em lista**"
      ],
      "metadata": {
        "id": "0cDMmNQBfBJN"
      }
    },
    {
      "cell_type": "code",
      "source": [
        "dict_to_list = list(example_dict)\n",
        "print(dict_to_list)\n"
      ],
      "metadata": {
        "colab": {
          "base_uri": "https://localhost:8080/",
          "height": 0
        },
        "id": "B6CP3Ircd7Fm",
        "outputId": "df82fcde-6093-4515-af1e-2d79fe89da81"
      },
      "execution_count": 3,
      "outputs": [
        {
          "output_type": "stream",
          "name": "stdout",
          "text": [
            "['apples', 'oranges', 'bananas']\n"
          ]
        }
      ]
    },
    {
      "cell_type": "markdown",
      "source": [
        "SAÌDA:"
      ],
      "metadata": {
        "id": "DA2uT6PEeJb-"
      }
    },
    {
      "cell_type": "code",
      "source": [
        "['apples', 'oranges', 'bananas']\n",
        "\n"
      ],
      "metadata": {
        "colab": {
          "base_uri": "https://localhost:8080/",
          "height": 0
        },
        "id": "BLN0HKXleR2S",
        "outputId": "1edc61b7-5d96-4719-b420-9fb3194dec4f"
      },
      "execution_count": 4,
      "outputs": [
        {
          "output_type": "execute_result",
          "data": {
            "text/plain": [
              "['apples', 'oranges', 'bananas']"
            ]
          },
          "metadata": {},
          "execution_count": 4
        }
      ]
    }
  ]
}