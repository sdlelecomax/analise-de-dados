{
 "cells": [
  {
   "cell_type": "markdown",
   "id": "742017a1-2cb8-4255-b367-2426b5f76e0e",
   "metadata": {},
   "source": [
    "# Jupyter Notebook - Leandro matos\n",
    "Esta é uma atividade de introdução ao Python."
   ]
  },
  {
   "cell_type": "code",
   "execution_count": 1,
   "id": "0bfc0713-a2b5-4cdc-80e7-bea5f8048eac",
   "metadata": {},
   "outputs": [],
   "source": [
    "import pandas as pd"
   ]
  },
  {
   "cell_type": "code",
   "execution_count": 3,
   "id": "29934172-03dd-480f-ae47-fa7bf829e6d6",
   "metadata": {},
   "outputs": [
    {
     "name": "stdout",
     "output_type": "stream",
     "text": [
      "C:\\Users\\leandropc\n"
     ]
    }
   ],
   "source": [
    "import os\n",
    "print(os.getcwd())  # Mostra o diretório atual\n"
   ]
  },
  {
   "cell_type": "code",
   "execution_count": 4,
   "id": "147eced1-be76-41a1-a743-d2de78a5e063",
   "metadata": {},
   "outputs": [],
   "source": [
    "df = pd.read_excel('default_of_credit_card_clients__courseware_version_1_21_19.xls')\n"
   ]
  },
  {
   "cell_type": "code",
   "execution_count": 5,
   "id": "52c6d234-bd15-486a-984a-c8e45c7241c0",
   "metadata": {},
   "outputs": [
    {
     "name": "stdout",
     "output_type": "stream",
     "text": [
      "                  ID  LIMIT_BAL  SEX  EDUCATION  MARRIAGE  AGE PAY_1  PAY_2  \\\n",
      "0      798fc410-45c1      20000    2          2         1   24     2      2   \n",
      "1      8a8c8f3b-8eb4     120000    2          2         2   26    -1      2   \n",
      "2      85698822-43f5      90000    2          2         2   34     0      0   \n",
      "3      0737c11b-be42      50000    2          2         1   37     0      0   \n",
      "4      3b7f77cc-dbc0      50000    1          2         1   57    -1      0   \n",
      "...              ...        ...  ...        ...       ...  ...   ...    ...   \n",
      "29995  ecff42d0-bdc6     220000    1          3         1   39     0      0   \n",
      "29996  99d1fa0e-222b     150000    1          3         2   43    -1     -1   \n",
      "29997  95cdd3e7-4f24      30000    1          2         2   37     4      3   \n",
      "29998  00d03f02-04cd      80000    1          3         1   41     1     -1   \n",
      "29999  15d69f9f-5ad3      50000    1          2         1   46     0      0   \n",
      "\n",
      "       PAY_3  PAY_4  ...  BILL_AMT4  BILL_AMT5  BILL_AMT6  PAY_AMT1  PAY_AMT2  \\\n",
      "0         -1     -1  ...          0          0          0         0       689   \n",
      "1          0      0  ...       3272       3455       3261         0      1000   \n",
      "2          0      0  ...      14331      14948      15549      1518      1500   \n",
      "3          0      0  ...      28314      28959      29547      2000      2019   \n",
      "4         -1      0  ...      20940      19146      19131      2000     36681   \n",
      "...      ...    ...  ...        ...        ...        ...       ...       ...   \n",
      "29995      0      0  ...      88004      31237      15980      8500     20000   \n",
      "29996     -1     -1  ...       8979       5190          0      1837      3526   \n",
      "29997      2     -1  ...      20878      20582      19357         0         0   \n",
      "29998      0      0  ...      52774      11855      48944     85900      3409   \n",
      "29999      0      0  ...      36535      32428      15313      2078      1800   \n",
      "\n",
      "       PAY_AMT3  PAY_AMT4  PAY_AMT5  PAY_AMT6  default payment next month  \n",
      "0             0         0         0         0                           1  \n",
      "1          1000      1000         0      2000                           1  \n",
      "2          1000      1000      1000      5000                           0  \n",
      "3          1200      1100      1069      1000                           0  \n",
      "4         10000      9000       689       679                           0  \n",
      "...         ...       ...       ...       ...                         ...  \n",
      "29995      5003      3047      5000      1000                           0  \n",
      "29996      8998       129         0         0                           0  \n",
      "29997     22000      4200      2000      3100                           1  \n",
      "29998      1178      1926     52964      1804                           1  \n",
      "29999      1430      1000      1000      1000                           1  \n",
      "\n",
      "[30000 rows x 25 columns]\n"
     ]
    }
   ],
   "source": [
    "print(df)  # Exibe todo o DataFrame\n"
   ]
  },
  {
   "cell_type": "code",
   "execution_count": 9,
   "id": "1ceb6457-718a-4faf-9f01-e8a1f988182b",
   "metadata": {},
   "outputs": [
    {
     "data": {
      "text/html": [
       "<div>\n",
       "<style scoped>\n",
       "    .dataframe tbody tr th:only-of-type {\n",
       "        vertical-align: middle;\n",
       "    }\n",
       "\n",
       "    .dataframe tbody tr th {\n",
       "        vertical-align: top;\n",
       "    }\n",
       "\n",
       "    .dataframe thead th {\n",
       "        text-align: right;\n",
       "    }\n",
       "</style>\n",
       "<table border=\"1\" class=\"dataframe\">\n",
       "  <thead>\n",
       "    <tr style=\"text-align: right;\">\n",
       "      <th></th>\n",
       "      <th>ID</th>\n",
       "      <th>LIMIT_BAL</th>\n",
       "      <th>SEX</th>\n",
       "      <th>EDUCATION</th>\n",
       "      <th>MARRIAGE</th>\n",
       "      <th>AGE</th>\n",
       "      <th>PAY_1</th>\n",
       "      <th>PAY_2</th>\n",
       "      <th>PAY_3</th>\n",
       "      <th>PAY_4</th>\n",
       "      <th>...</th>\n",
       "      <th>BILL_AMT4</th>\n",
       "      <th>BILL_AMT5</th>\n",
       "      <th>BILL_AMT6</th>\n",
       "      <th>PAY_AMT1</th>\n",
       "      <th>PAY_AMT2</th>\n",
       "      <th>PAY_AMT3</th>\n",
       "      <th>PAY_AMT4</th>\n",
       "      <th>PAY_AMT5</th>\n",
       "      <th>PAY_AMT6</th>\n",
       "      <th>default payment next month</th>\n",
       "    </tr>\n",
       "  </thead>\n",
       "  <tbody>\n",
       "    <tr>\n",
       "      <th>0</th>\n",
       "      <td>798fc410-45c1</td>\n",
       "      <td>20000</td>\n",
       "      <td>2</td>\n",
       "      <td>2</td>\n",
       "      <td>1</td>\n",
       "      <td>24</td>\n",
       "      <td>2</td>\n",
       "      <td>2</td>\n",
       "      <td>-1</td>\n",
       "      <td>-1</td>\n",
       "      <td>...</td>\n",
       "      <td>0</td>\n",
       "      <td>0</td>\n",
       "      <td>0</td>\n",
       "      <td>0</td>\n",
       "      <td>689</td>\n",
       "      <td>0</td>\n",
       "      <td>0</td>\n",
       "      <td>0</td>\n",
       "      <td>0</td>\n",
       "      <td>1</td>\n",
       "    </tr>\n",
       "    <tr>\n",
       "      <th>1</th>\n",
       "      <td>8a8c8f3b-8eb4</td>\n",
       "      <td>120000</td>\n",
       "      <td>2</td>\n",
       "      <td>2</td>\n",
       "      <td>2</td>\n",
       "      <td>26</td>\n",
       "      <td>-1</td>\n",
       "      <td>2</td>\n",
       "      <td>0</td>\n",
       "      <td>0</td>\n",
       "      <td>...</td>\n",
       "      <td>3272</td>\n",
       "      <td>3455</td>\n",
       "      <td>3261</td>\n",
       "      <td>0</td>\n",
       "      <td>1000</td>\n",
       "      <td>1000</td>\n",
       "      <td>1000</td>\n",
       "      <td>0</td>\n",
       "      <td>2000</td>\n",
       "      <td>1</td>\n",
       "    </tr>\n",
       "    <tr>\n",
       "      <th>2</th>\n",
       "      <td>85698822-43f5</td>\n",
       "      <td>90000</td>\n",
       "      <td>2</td>\n",
       "      <td>2</td>\n",
       "      <td>2</td>\n",
       "      <td>34</td>\n",
       "      <td>0</td>\n",
       "      <td>0</td>\n",
       "      <td>0</td>\n",
       "      <td>0</td>\n",
       "      <td>...</td>\n",
       "      <td>14331</td>\n",
       "      <td>14948</td>\n",
       "      <td>15549</td>\n",
       "      <td>1518</td>\n",
       "      <td>1500</td>\n",
       "      <td>1000</td>\n",
       "      <td>1000</td>\n",
       "      <td>1000</td>\n",
       "      <td>5000</td>\n",
       "      <td>0</td>\n",
       "    </tr>\n",
       "    <tr>\n",
       "      <th>3</th>\n",
       "      <td>0737c11b-be42</td>\n",
       "      <td>50000</td>\n",
       "      <td>2</td>\n",
       "      <td>2</td>\n",
       "      <td>1</td>\n",
       "      <td>37</td>\n",
       "      <td>0</td>\n",
       "      <td>0</td>\n",
       "      <td>0</td>\n",
       "      <td>0</td>\n",
       "      <td>...</td>\n",
       "      <td>28314</td>\n",
       "      <td>28959</td>\n",
       "      <td>29547</td>\n",
       "      <td>2000</td>\n",
       "      <td>2019</td>\n",
       "      <td>1200</td>\n",
       "      <td>1100</td>\n",
       "      <td>1069</td>\n",
       "      <td>1000</td>\n",
       "      <td>0</td>\n",
       "    </tr>\n",
       "    <tr>\n",
       "      <th>4</th>\n",
       "      <td>3b7f77cc-dbc0</td>\n",
       "      <td>50000</td>\n",
       "      <td>1</td>\n",
       "      <td>2</td>\n",
       "      <td>1</td>\n",
       "      <td>57</td>\n",
       "      <td>-1</td>\n",
       "      <td>0</td>\n",
       "      <td>-1</td>\n",
       "      <td>0</td>\n",
       "      <td>...</td>\n",
       "      <td>20940</td>\n",
       "      <td>19146</td>\n",
       "      <td>19131</td>\n",
       "      <td>2000</td>\n",
       "      <td>36681</td>\n",
       "      <td>10000</td>\n",
       "      <td>9000</td>\n",
       "      <td>689</td>\n",
       "      <td>679</td>\n",
       "      <td>0</td>\n",
       "    </tr>\n",
       "  </tbody>\n",
       "</table>\n",
       "<p>5 rows × 25 columns</p>\n",
       "</div>"
      ],
      "text/plain": [
       "              ID  LIMIT_BAL  SEX  EDUCATION  MARRIAGE  AGE PAY_1  PAY_2  \\\n",
       "0  798fc410-45c1      20000    2          2         1   24     2      2   \n",
       "1  8a8c8f3b-8eb4     120000    2          2         2   26    -1      2   \n",
       "2  85698822-43f5      90000    2          2         2   34     0      0   \n",
       "3  0737c11b-be42      50000    2          2         1   37     0      0   \n",
       "4  3b7f77cc-dbc0      50000    1          2         1   57    -1      0   \n",
       "\n",
       "   PAY_3  PAY_4  ...  BILL_AMT4  BILL_AMT5  BILL_AMT6  PAY_AMT1  PAY_AMT2  \\\n",
       "0     -1     -1  ...          0          0          0         0       689   \n",
       "1      0      0  ...       3272       3455       3261         0      1000   \n",
       "2      0      0  ...      14331      14948      15549      1518      1500   \n",
       "3      0      0  ...      28314      28959      29547      2000      2019   \n",
       "4     -1      0  ...      20940      19146      19131      2000     36681   \n",
       "\n",
       "   PAY_AMT3  PAY_AMT4  PAY_AMT5  PAY_AMT6  default payment next month  \n",
       "0         0         0         0         0                           1  \n",
       "1      1000      1000         0      2000                           1  \n",
       "2      1000      1000      1000      5000                           0  \n",
       "3      1200      1100      1069      1000                           0  \n",
       "4     10000      9000       689       679                           0  \n",
       "\n",
       "[5 rows x 25 columns]"
      ]
     },
     "execution_count": 9,
     "metadata": {},
     "output_type": "execute_result"
    }
   ],
   "source": [
    "df.head()  # exibir as 5 primeiras linhas\n"
   ]
  },
  {
   "cell_type": "code",
   "execution_count": 10,
   "id": "4e3141f5-f771-4a2c-9dff-740619f031df",
   "metadata": {},
   "outputs": [
    {
     "name": "stdout",
     "output_type": "stream",
     "text": [
      "O DataFrame tem 25 colunas.\n"
     ]
    }
   ],
   "source": [
    "# 1 Saber quantas colunas os dados contêm\n",
    "num_colunas = df.shape[1]\n",
    "print(f\"O DataFrame tem {num_colunas} colunas.\")\n"
   ]
  },
  {
   "cell_type": "code",
   "execution_count": 12,
   "id": "a89c9c7e-c55f-459a-bf6b-a7d6c19c450d",
   "metadata": {},
   "outputs": [
    {
     "name": "stdout",
     "output_type": "stream",
     "text": [
      "O DataFrame tem 30000 linhas.\n"
     ]
    }
   ],
   "source": [
    "# 2 Quantas linhas (amostras) os dados têm?\n",
    "num_linhas = df.shape[0]\n",
    "print(f\"O DataFrame tem {num_linhas} linhas.\")\n",
    "\n"
   ]
  },
  {
   "cell_type": "code",
   "execution_count": 13,
   "id": "6be5b5bd-b04f-4dd7-8fd5-bb63bbddba65",
   "metadata": {},
   "outputs": [
    {
     "name": "stdout",
     "output_type": "stream",
     "text": [
      "Tipos de dados das colunas:\n",
      "ID                            object\n",
      "LIMIT_BAL                      int64\n",
      "SEX                            int64\n",
      "EDUCATION                      int64\n",
      "MARRIAGE                       int64\n",
      "AGE                            int64\n",
      "PAY_1                         object\n",
      "PAY_2                          int64\n",
      "PAY_3                          int64\n",
      "PAY_4                          int64\n",
      "PAY_5                          int64\n",
      "PAY_6                          int64\n",
      "BILL_AMT1                      int64\n",
      "BILL_AMT2                      int64\n",
      "BILL_AMT3                      int64\n",
      "BILL_AMT4                      int64\n",
      "BILL_AMT5                      int64\n",
      "BILL_AMT6                      int64\n",
      "PAY_AMT1                       int64\n",
      "PAY_AMT2                       int64\n",
      "PAY_AMT3                       int64\n",
      "PAY_AMT4                       int64\n",
      "PAY_AMT5                       int64\n",
      "PAY_AMT6                       int64\n",
      "default payment next month     int64\n",
      "dtype: object\n"
     ]
    }
   ],
   "source": [
    "# 3 Identificar tipos de características (categóricas e numéricas)\n",
    "tipos_de_dados = df.dtypes\n",
    "print(\"Tipos de dados das colunas:\")\n",
    "print(tipos_de_dados)"
   ]
  },
  {
   "cell_type": "code",
   "execution_count": 14,
   "id": "0ed9faaa-f293-4144-ad35-5c4d8e634e76",
   "metadata": {},
   "outputs": [
    {
     "name": "stdout",
     "output_type": "stream",
     "text": [
      "Colunas numéricas: ['LIMIT_BAL', 'SEX', 'EDUCATION', 'MARRIAGE', 'AGE', 'PAY_2', 'PAY_3', 'PAY_4', 'PAY_5', 'PAY_6', 'BILL_AMT1', 'BILL_AMT2', 'BILL_AMT3', 'BILL_AMT4', 'BILL_AMT5', 'BILL_AMT6', 'PAY_AMT1', 'PAY_AMT2', 'PAY_AMT3', 'PAY_AMT4', 'PAY_AMT5', 'PAY_AMT6', 'default payment next month']\n",
      "Colunas categóricas: ['ID', 'PAY_1']\n"
     ]
    }
   ],
   "source": [
    "# Se quiser separar os tipos:\n",
    "colunas_numericas = df.select_dtypes(include=['number']).columns\n",
    "colunas_categoricas = df.select_dtypes(include=['object']).columns\n",
    "\n",
    "print(f\"Colunas numéricas: {list(colunas_numericas)}\")\n",
    "print(f\"Colunas categóricas: {list(colunas_categoricas)}\")\n"
   ]
  },
  {
   "cell_type": "code",
   "execution_count": 15,
   "id": "79196a28-fc14-4088-9d94-a64ad65f2dc7",
   "metadata": {},
   "outputs": [
    {
     "name": "stdout",
     "output_type": "stream",
     "text": [
      "Resumo estatístico das colunas numéricas:\n",
      "            LIMIT_BAL           SEX     EDUCATION      MARRIAGE           AGE  \\\n",
      "count    30000.000000  30000.000000  30000.000000  30000.000000  30000.000000   \n",
      "mean    165760.989333      1.586500      1.833333      1.535900     35.108800   \n",
      "std     130158.590432      0.513348      0.807699      0.542698      9.851592   \n",
      "min          0.000000      0.000000      0.000000      0.000000      0.000000   \n",
      "25%      50000.000000      1.000000      1.000000      1.000000     28.000000   \n",
      "50%     140000.000000      2.000000      2.000000      2.000000     34.000000   \n",
      "75%     240000.000000      2.000000      2.000000      2.000000     41.000000   \n",
      "max    1000000.000000      2.000000      6.000000      3.000000     79.000000   \n",
      "\n",
      "              PAY_2         PAY_3         PAY_4         PAY_5         PAY_6  \\\n",
      "count  30000.000000  30000.000000  30000.000000  30000.000000  30000.000000   \n",
      "mean      -0.132867     -0.164333     -0.219300     -0.263900     -0.288033   \n",
      "std        1.191215      1.191096      1.162348      1.127519      1.144981   \n",
      "min       -2.000000     -2.000000     -2.000000     -2.000000     -2.000000   \n",
      "25%       -1.000000     -1.000000     -1.000000     -1.000000     -1.000000   \n",
      "50%        0.000000      0.000000      0.000000      0.000000      0.000000   \n",
      "75%        0.000000      0.000000      0.000000      0.000000      0.000000   \n",
      "max        8.000000      8.000000      8.000000      8.000000      8.000000   \n",
      "\n",
      "       ...      BILL_AMT4      BILL_AMT5      BILL_AMT6       PAY_AMT1  \\\n",
      "count  ...   30000.000000   30000.000000   30000.000000   30000.000000   \n",
      "mean   ...   42791.362167   39884.398167   38480.350933    5613.321500   \n",
      "std    ...   64090.316188   60606.644833   59406.836932   16539.094312   \n",
      "min    ... -170000.000000  -81334.000000 -339603.000000       0.000000   \n",
      "25%    ...    2034.000000    1534.000000    1080.000000     836.000000   \n",
      "50%    ...   18759.500000   17835.500000   16643.000000    2084.500000   \n",
      "75%    ...   53572.250000   49804.000000   48863.500000    5000.000000   \n",
      "max    ...  891586.000000  927171.000000  961664.000000  873552.000000   \n",
      "\n",
      "           PAY_AMT2       PAY_AMT3       PAY_AMT4       PAY_AMT5  \\\n",
      "count  3.000000e+04   30000.000000   30000.000000   30000.000000   \n",
      "mean   5.855410e+03    5174.387967    4776.089733    4754.749200   \n",
      "std    2.299256e+04   17565.538305   15532.893047   15239.070708   \n",
      "min    0.000000e+00       0.000000       0.000000       0.000000   \n",
      "25%    7.217500e+02     371.000000     223.000000     170.750000   \n",
      "50%    2.000000e+03    1776.000000    1500.000000    1500.000000   \n",
      "75%    5.000000e+03    4500.000000    4000.000000    4000.000000   \n",
      "max    1.684259e+06  896040.000000  621000.000000  426529.000000   \n",
      "\n",
      "            PAY_AMT6  default payment next month  \n",
      "count   30000.000000                30000.000000  \n",
      "mean     5164.223267                    0.218733  \n",
      "std     17712.664703                    0.413394  \n",
      "min         0.000000                    0.000000  \n",
      "25%         9.000000                    0.000000  \n",
      "50%      1500.000000                    0.000000  \n",
      "75%      4000.000000                    0.000000  \n",
      "max    528666.000000                    1.000000  \n",
      "\n",
      "[8 rows x 23 columns]\n"
     ]
    }
   ],
   "source": [
    "# 4 Examinar a aparência dos dados / Para colunas numéricas (intervalo de valores):\n",
    "print(\"Resumo estatístico das colunas numéricas:\")\n",
    "print(df.describe())  # Mostra média, desvio padrão, mínimo, máximo etc.\n"
   ]
  },
  {
   "cell_type": "code",
   "execution_count": 16,
   "id": "d5f73deb-56e4-4f06-a9a1-f177838ac969",
   "metadata": {},
   "outputs": [
    {
     "name": "stdout",
     "output_type": "stream",
     "text": [
      "Frequência das classes nas colunas categóricas:\n",
      "\n",
      "Coluna: ID\n",
      "ID\n",
      "ad23fe5c-7b09    2\n",
      "1fb3e3e6-a68d    2\n",
      "89f8f447-fca8    2\n",
      "7c9b7473-cc2f    2\n",
      "90330d02-82d9    2\n",
      "                ..\n",
      "2edeb3a6-d38d    1\n",
      "27e11893-92e9    1\n",
      "2b1c282b-441e    1\n",
      "bd737997-0eb0    1\n",
      "15d69f9f-5ad3    1\n",
      "Name: count, Length: 29687, dtype: int64\n",
      "\n",
      "Coluna: PAY_1\n",
      "PAY_1\n",
      "0                13402\n",
      "-1                5047\n",
      "1                 3261\n",
      "Not available     3021\n",
      "-2                2476\n",
      "2                 2378\n",
      "3                  292\n",
      "4                   63\n",
      "5                   23\n",
      "8                   17\n",
      "6                   11\n",
      "7                    9\n",
      "Name: count, dtype: int64\n"
     ]
    }
   ],
   "source": [
    "# Para colunas categóricas (frequência das classes):\n",
    "print(\"Frequência das classes nas colunas categóricas:\")\n",
    "for coluna in colunas_categoricas:\n",
    "    print(f\"\\nColuna: {coluna}\")\n",
    "    print(df[coluna].value_counts())  # Conta quantas vezes cada classe aparece\n"
   ]
  },
  {
   "cell_type": "code",
   "execution_count": null,
   "id": "267b88ce-78fa-45c2-a352-706b052ddbb7",
   "metadata": {},
   "outputs": [],
   "source": []
  }
 ],
 "metadata": {
  "kernelspec": {
   "display_name": "Python 3 (ipykernel)",
   "language": "python",
   "name": "python3"
  },
  "language_info": {
   "codemirror_mode": {
    "name": "ipython",
    "version": 3
   },
   "file_extension": ".py",
   "mimetype": "text/x-python",
   "name": "python",
   "nbconvert_exporter": "python",
   "pygments_lexer": "ipython3",
   "version": "3.12.7"
  }
 },
 "nbformat": 4,
 "nbformat_minor": 5
}
